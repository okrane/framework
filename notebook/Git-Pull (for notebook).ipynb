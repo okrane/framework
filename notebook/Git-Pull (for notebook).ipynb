{
 "metadata": {
  "name": "Git-Pull (for notebook)"
 },
 "nbformat": 3,
 "nbformat_minor": 0,
 "worksheets": [
  {
   "cells": [
    {
     "cell_type": "code",
     "collapsed": false,
     "input": [
      "import os, getpass, sh\n",
      "git = sh.git.bake(_cwd='/home/flexsys/st_sim')\n",
      "print git.status()"
     ],
     "language": "python",
     "metadata": {},
     "outputs": [
      {
       "output_type": "stream",
       "stream": "stdout",
       "text": [
        "# On branch master\n",
        "# Your branch is ahead of 'origin/master' by 79 commits.\n",
        "#\n",
        "# Changes not staged for commit:\n",
        "#   (use \"git add <file>...\" to update what will be committed)\n",
        "#   (use \"git checkout -- <file>...\" to discard changes in working directory)\n",
        "#\n",
        "#\tmodified:   lib/data/st_data.pyc\n",
        "#\tmodified:   lib/dbtools/get_repository.pyc\n",
        "#\tmodified:   lib/dbtools/read_dataset.pyc\n",
        "#\tmodified:   notebook/Git-Pull (for notebook).ipynb\n",
        "#\n",
        "# Untracked files:\n",
        "#   (use \"git add <file>...\" to include in what will be committed)\n",
        "#\n",
        "#\tlib/dbtools/.read_dataset.py.swp\n",
        "#\tnotebook/Read_dataset.ipynb\n",
        "no changes added to commit (use \"git add\" and/or \"git commit -a\")\n",
        "\n"
       ]
      }
     ],
     "prompt_number": 8
    },
    {
     "cell_type": "code",
     "collapsed": false,
     "input": [
      "print git.commit(\"-a\", \"-m\", \"notebook commit\")"
     ],
     "language": "python",
     "metadata": {},
     "outputs": [
      {
       "output_type": "stream",
       "stream": "stdout",
       "text": [
        "[master 2af28c4] notebook commit\n",
        " 4 files changed, 73 insertions(+), 55 deletions(-)\n",
        " rewrite notebook/Git-Pull (for notebook).ipynb (65%)\n",
        "\n"
       ]
      }
     ],
     "prompt_number": 11
    },
    {
     "cell_type": "code",
     "collapsed": false,
     "input": [
      "print git.pull(\"origin\", \"master\")"
     ],
     "language": "python",
     "metadata": {},
     "outputs": [
      {
       "ename": "ErrorReturnCode_1",
       "evalue": "\n\n  RAN: '/usr/bin/git pull origin master'\n\n  STDOUT:\nAuto-merging lib/data/st_data.pyc\nCONFLICT (content): Merge conflict in lib/data/st_data.pyc\nAuto-merging lib/dbtools/read_dataset.pyc\nCONFLICT (content): Merge conflict in lib/dbtools/read_dataset.pyc\nAutomatic merge failed; fix conflicts and then commit the result.\n\n\n  STDERR:\nFrom /home/central/st_sim/\n * branch            master     -> FETCH_HEAD\nwarning: Cannot merge binary files: lib/data/st_data.pyc (HEAD vs. dab74dd70d0c27407a6307052d3dfbc125c49a8e)\n\nwarning: Cannot merge binary files: lib/dbtools/read_dataset.pyc (HEAD vs. dab74dd70d0c27407a6307052d3dfbc125c49a8e)\n\n",
       "output_type": "pyerr",
       "traceback": [
        "\u001b[1;31m---------------------------------------------------------------------------\u001b[0m\n\u001b[1;31mErrorReturnCode_1\u001b[0m                         Traceback (most recent call last)",
        "\u001b[1;32m<ipython-input-12-adcac05cce9a>\u001b[0m in \u001b[0;36m<module>\u001b[1;34m()\u001b[0m\n\u001b[1;32m----> 1\u001b[1;33m \u001b[1;32mprint\u001b[0m \u001b[0mgit\u001b[0m\u001b[1;33m.\u001b[0m\u001b[0mpull\u001b[0m\u001b[1;33m(\u001b[0m\u001b[1;34m\"origin\"\u001b[0m\u001b[1;33m,\u001b[0m \u001b[1;34m\"master\"\u001b[0m\u001b[1;33m)\u001b[0m\u001b[1;33m\u001b[0m\u001b[0m\n\u001b[0m",
        "\u001b[1;32m/home/flexsys/anaconda/lib/python2.7/site-packages/sh-1.08-py2.7.egg/sh.pyc\u001b[0m in \u001b[0;36m__call__\u001b[1;34m(self, *args, **kwargs)\u001b[0m\n\u001b[0;32m    724\u001b[0m \u001b[1;33m\u001b[0m\u001b[0m\n\u001b[0;32m    725\u001b[0m \u001b[1;33m\u001b[0m\u001b[0m\n\u001b[1;32m--> 726\u001b[1;33m         \u001b[1;32mreturn\u001b[0m \u001b[0mRunningCommand\u001b[0m\u001b[1;33m(\u001b[0m\u001b[0mcmd\u001b[0m\u001b[1;33m,\u001b[0m \u001b[0mcall_args\u001b[0m\u001b[1;33m,\u001b[0m \u001b[0mstdin\u001b[0m\u001b[1;33m,\u001b[0m \u001b[0mstdout\u001b[0m\u001b[1;33m,\u001b[0m \u001b[0mstderr\u001b[0m\u001b[1;33m)\u001b[0m\u001b[1;33m\u001b[0m\u001b[0m\n\u001b[0m\u001b[0;32m    727\u001b[0m \u001b[1;33m\u001b[0m\u001b[0m\n\u001b[0;32m    728\u001b[0m \u001b[1;33m\u001b[0m\u001b[0m\n",
        "\u001b[1;32m/home/flexsys/anaconda/lib/python2.7/site-packages/sh-1.08-py2.7.egg/sh.pyc\u001b[0m in \u001b[0;36m__init__\u001b[1;34m(self, cmd, call_args, stdin, stdout, stderr)\u001b[0m\n\u001b[0;32m    289\u001b[0m \u001b[1;33m\u001b[0m\u001b[0m\n\u001b[0;32m    290\u001b[0m             \u001b[1;32mif\u001b[0m \u001b[0mself\u001b[0m\u001b[1;33m.\u001b[0m\u001b[0mshould_wait\u001b[0m\u001b[1;33m:\u001b[0m\u001b[1;33m\u001b[0m\u001b[0m\n\u001b[1;32m--> 291\u001b[1;33m                 \u001b[0mself\u001b[0m\u001b[1;33m.\u001b[0m\u001b[0mwait\u001b[0m\u001b[1;33m(\u001b[0m\u001b[1;33m)\u001b[0m\u001b[1;33m\u001b[0m\u001b[0m\n\u001b[0m\u001b[0;32m    292\u001b[0m \u001b[1;33m\u001b[0m\u001b[0m\n\u001b[0;32m    293\u001b[0m \u001b[1;33m\u001b[0m\u001b[0m\n",
        "\u001b[1;32m/home/flexsys/anaconda/lib/python2.7/site-packages/sh-1.08-py2.7.egg/sh.pyc\u001b[0m in \u001b[0;36mwait\u001b[1;34m(self)\u001b[0m\n\u001b[0;32m    293\u001b[0m \u001b[1;33m\u001b[0m\u001b[0m\n\u001b[0;32m    294\u001b[0m     \u001b[1;32mdef\u001b[0m \u001b[0mwait\u001b[0m\u001b[1;33m(\u001b[0m\u001b[0mself\u001b[0m\u001b[1;33m)\u001b[0m\u001b[1;33m:\u001b[0m\u001b[1;33m\u001b[0m\u001b[0m\n\u001b[1;32m--> 295\u001b[1;33m         \u001b[0mself\u001b[0m\u001b[1;33m.\u001b[0m\u001b[0m_handle_exit_code\u001b[0m\u001b[1;33m(\u001b[0m\u001b[0mself\u001b[0m\u001b[1;33m.\u001b[0m\u001b[0mprocess\u001b[0m\u001b[1;33m.\u001b[0m\u001b[0mwait\u001b[0m\u001b[1;33m(\u001b[0m\u001b[1;33m)\u001b[0m\u001b[1;33m)\u001b[0m\u001b[1;33m\u001b[0m\u001b[0m\n\u001b[0m\u001b[0;32m    296\u001b[0m         \u001b[1;32mreturn\u001b[0m \u001b[0mself\u001b[0m\u001b[1;33m\u001b[0m\u001b[0m\n\u001b[0;32m    297\u001b[0m \u001b[1;33m\u001b[0m\u001b[0m\n",
        "\u001b[1;32m/home/flexsys/anaconda/lib/python2.7/site-packages/sh-1.08-py2.7.egg/sh.pyc\u001b[0m in \u001b[0;36m_handle_exit_code\u001b[1;34m(self, code)\u001b[0m\n\u001b[0;32m    307\u001b[0m                 \u001b[1;34m\" \"\u001b[0m\u001b[1;33m.\u001b[0m\u001b[0mjoin\u001b[0m\u001b[1;33m(\u001b[0m\u001b[0mself\u001b[0m\u001b[1;33m.\u001b[0m\u001b[0mcmd\u001b[0m\u001b[1;33m)\u001b[0m\u001b[1;33m,\u001b[0m\u001b[1;33m\u001b[0m\u001b[0m\n\u001b[0;32m    308\u001b[0m                 \u001b[0mself\u001b[0m\u001b[1;33m.\u001b[0m\u001b[0mprocess\u001b[0m\u001b[1;33m.\u001b[0m\u001b[0mstdout\u001b[0m\u001b[1;33m,\u001b[0m\u001b[1;33m\u001b[0m\u001b[0m\n\u001b[1;32m--> 309\u001b[1;33m                 \u001b[0mself\u001b[0m\u001b[1;33m.\u001b[0m\u001b[0mprocess\u001b[0m\u001b[1;33m.\u001b[0m\u001b[0mstderr\u001b[0m\u001b[1;33m\u001b[0m\u001b[0m\n\u001b[0m\u001b[0;32m    310\u001b[0m             )\n\u001b[0;32m    311\u001b[0m \u001b[1;33m\u001b[0m\u001b[0m\n",
        "\u001b[1;31mErrorReturnCode_1\u001b[0m: \n\n  RAN: '/usr/bin/git pull origin master'\n\n  STDOUT:\nAuto-merging lib/data/st_data.pyc\nCONFLICT (content): Merge conflict in lib/data/st_data.pyc\nAuto-merging lib/dbtools/read_dataset.pyc\nCONFLICT (content): Merge conflict in lib/dbtools/read_dataset.pyc\nAutomatic merge failed; fix conflicts and then commit the result.\n\n\n  STDERR:\nFrom /home/central/st_sim/\n * branch            master     -> FETCH_HEAD\nwarning: Cannot merge binary files: lib/data/st_data.pyc (HEAD vs. dab74dd70d0c27407a6307052d3dfbc125c49a8e)\n\nwarning: Cannot merge binary files: lib/dbtools/read_dataset.pyc (HEAD vs. dab74dd70d0c27407a6307052d3dfbc125c49a8e)\n\n"
       ]
      }
     ],
     "prompt_number": 12
    },
    {
     "cell_type": "code",
     "collapsed": false,
     "input": [],
     "language": "python",
     "metadata": {},
     "outputs": []
    }
   ],
   "metadata": {}
  }
 ]
}