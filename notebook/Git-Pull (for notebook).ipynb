{
 "metadata": {
  "name": "Git-Pull (for notebook)"
 },
 "nbformat": 3,
 "nbformat_minor": 0,
 "worksheets": [
  {
   "cells": [
    {
     "cell_type": "code",
     "collapsed": false,
     "input": [
      "import os, getpass, sh\n",
      "git = sh.git.bake(_cwd='/home/flexsys/st_sim')\n",
      "print git.status()"
     ],
     "language": "python",
     "metadata": {},
     "outputs": [
      {
       "output_type": "stream",
       "stream": "stdout",
       "text": [
        "# On branch master\n",
        "# Your branch is ahead of 'origin/master' by 73 commits.\n",
        "#\n",
        "# Changes not staged for commit:\n",
        "#   (use \"git add <file>...\" to update what will be committed)\n",
        "#   (use \"git checkout -- <file>...\" to discard changes in working directory)\n",
        "#\n",
        "#\tmodified:   notebook/Git-Pull (for notebook).ipynb\n",
        "#\n",
        "no changes added to commit (use \"git add\" and/or \"git commit -a\")\n",
        "\n"
       ]
      }
     ],
     "prompt_number": 6
    },
    {
     "cell_type": "code",
     "collapsed": false,
     "input": [
      "print git.pull(\"origin\", \"master\")"
     ],
     "language": "python",
     "metadata": {},
     "outputs": [
      {
       "output_type": "stream",
       "stream": "stdout",
       "text": [
        "Already up-to-date.\n",
        "\n"
       ]
      }
     ],
     "prompt_number": 7
    },
    {
     "cell_type": "code",
     "collapsed": false,
     "input": [],
     "language": "python",
     "metadata": {},
     "outputs": []
    }
   ],
   "metadata": {}
  }
 ]
}